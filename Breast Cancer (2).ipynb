{
 "cells": [
  {
   "cell_type": "code",
   "execution_count": 4,
   "id": "0942c42b",
   "metadata": {},
   "outputs": [
    {
     "data": {
      "text/html": [
       "<div>\n",
       "<style scoped>\n",
       "    .dataframe tbody tr th:only-of-type {\n",
       "        vertical-align: middle;\n",
       "    }\n",
       "\n",
       "    .dataframe tbody tr th {\n",
       "        vertical-align: top;\n",
       "    }\n",
       "\n",
       "    .dataframe thead th {\n",
       "        text-align: right;\n",
       "    }\n",
       "</style>\n",
       "<table border=\"1\" class=\"dataframe\">\n",
       "  <thead>\n",
       "    <tr style=\"text-align: right;\">\n",
       "      <th></th>\n",
       "      <th>sam_code_num</th>\n",
       "      <th>Clump_thick</th>\n",
       "      <th>Uni_of_Cell_Size</th>\n",
       "      <th>Uni_of_Cell_Shape</th>\n",
       "      <th>Marginal_Adhesion</th>\n",
       "      <th>Single_Epithelial_Cell_Size</th>\n",
       "      <th>Bare_Nuclei</th>\n",
       "      <th>Bland_Chromatin</th>\n",
       "      <th>Normal_Nucleoli</th>\n",
       "      <th>Mitoes</th>\n",
       "      <th>Class</th>\n",
       "    </tr>\n",
       "  </thead>\n",
       "  <tbody>\n",
       "    <tr>\n",
       "      <th>0</th>\n",
       "      <td>1000025</td>\n",
       "      <td>5</td>\n",
       "      <td>1</td>\n",
       "      <td>1</td>\n",
       "      <td>1</td>\n",
       "      <td>2</td>\n",
       "      <td>1.0</td>\n",
       "      <td>3</td>\n",
       "      <td>1</td>\n",
       "      <td>1</td>\n",
       "      <td>2</td>\n",
       "    </tr>\n",
       "    <tr>\n",
       "      <th>1</th>\n",
       "      <td>1002945</td>\n",
       "      <td>5</td>\n",
       "      <td>4</td>\n",
       "      <td>4</td>\n",
       "      <td>5</td>\n",
       "      <td>7</td>\n",
       "      <td>10.0</td>\n",
       "      <td>3</td>\n",
       "      <td>2</td>\n",
       "      <td>1</td>\n",
       "      <td>2</td>\n",
       "    </tr>\n",
       "    <tr>\n",
       "      <th>2</th>\n",
       "      <td>1015425</td>\n",
       "      <td>3</td>\n",
       "      <td>1</td>\n",
       "      <td>1</td>\n",
       "      <td>1</td>\n",
       "      <td>2</td>\n",
       "      <td>2.0</td>\n",
       "      <td>3</td>\n",
       "      <td>1</td>\n",
       "      <td>1</td>\n",
       "      <td>2</td>\n",
       "    </tr>\n",
       "    <tr>\n",
       "      <th>3</th>\n",
       "      <td>1016277</td>\n",
       "      <td>6</td>\n",
       "      <td>8</td>\n",
       "      <td>8</td>\n",
       "      <td>1</td>\n",
       "      <td>3</td>\n",
       "      <td>4.0</td>\n",
       "      <td>3</td>\n",
       "      <td>7</td>\n",
       "      <td>1</td>\n",
       "      <td>2</td>\n",
       "    </tr>\n",
       "    <tr>\n",
       "      <th>4</th>\n",
       "      <td>1017023</td>\n",
       "      <td>4</td>\n",
       "      <td>1</td>\n",
       "      <td>1</td>\n",
       "      <td>3</td>\n",
       "      <td>2</td>\n",
       "      <td>1.0</td>\n",
       "      <td>3</td>\n",
       "      <td>1</td>\n",
       "      <td>1</td>\n",
       "      <td>2</td>\n",
       "    </tr>\n",
       "  </tbody>\n",
       "</table>\n",
       "</div>"
      ],
      "text/plain": [
       "   sam_code_num  Clump_thick  Uni_of_Cell_Size  Uni_of_Cell_Shape  \\\n",
       "0       1000025            5                 1                  1   \n",
       "1       1002945            5                 4                  4   \n",
       "2       1015425            3                 1                  1   \n",
       "3       1016277            6                 8                  8   \n",
       "4       1017023            4                 1                  1   \n",
       "\n",
       "   Marginal_Adhesion  Single_Epithelial_Cell_Size  Bare_Nuclei  \\\n",
       "0                  1                            2          1.0   \n",
       "1                  5                            7         10.0   \n",
       "2                  1                            2          2.0   \n",
       "3                  1                            3          4.0   \n",
       "4                  3                            2          1.0   \n",
       "\n",
       "   Bland_Chromatin  Normal_Nucleoli  Mitoes  Class  \n",
       "0                3                1       1      2  \n",
       "1                3                2       1      2  \n",
       "2                3                1       1      2  \n",
       "3                3                7       1      2  \n",
       "4                3                1       1      2  "
      ]
     },
     "execution_count": 4,
     "metadata": {},
     "output_type": "execute_result"
    }
   ],
   "source": [
    "import pandas as pd\n",
    "import numpy as np\n",
    "import matplotlib.pyplot as plt\n",
    "from scipy import stats\n",
    "import seaborn as sns\n",
    "import statsmodels.api as sm\n",
    "from sklearn.model_selection import train_test_split\n",
    "columns=[\"sam_code_num\",\"Clump_thick\",\"Uni_of_Cell_Size\",\"Uni_of_Cell_Shape\",\"Marginal_Adhesion\",\"Single_Epithelial_Cell_Size\",\"Bare_Nuclei\",\"Bland_Chromatin\",\"Normal_Nucleoli\",\"Mitoes\",\"Class\"]\n",
    "data=pd.read_csv(\"https://archive.ics.uci.edu/ml/machine-learning-databases/breast-cancer-wisconsin/breast-cancer-wisconsin.data\",names=columns,na_values=\"?\")\n",
    "data.head()"
   ]
  },
  {
   "cell_type": "code",
   "execution_count": 5,
   "id": "4beede50",
   "metadata": {},
   "outputs": [
    {
     "name": "stdout",
     "output_type": "stream",
     "text": [
      "<class 'pandas.core.frame.DataFrame'>\n",
      "RangeIndex: 699 entries, 0 to 698\n",
      "Data columns (total 11 columns):\n",
      " #   Column                       Non-Null Count  Dtype  \n",
      "---  ------                       --------------  -----  \n",
      " 0   sam_code_num                 699 non-null    int64  \n",
      " 1   Clump_thick                  699 non-null    int64  \n",
      " 2   Uni_of_Cell_Size             699 non-null    int64  \n",
      " 3   Uni_of_Cell_Shape            699 non-null    int64  \n",
      " 4   Marginal_Adhesion            699 non-null    int64  \n",
      " 5   Single_Epithelial_Cell_Size  699 non-null    int64  \n",
      " 6   Bare_Nuclei                  683 non-null    float64\n",
      " 7   Bland_Chromatin              699 non-null    int64  \n",
      " 8   Normal_Nucleoli              699 non-null    int64  \n",
      " 9   Mitoes                       699 non-null    int64  \n",
      " 10  Class                        699 non-null    int64  \n",
      "dtypes: float64(1), int64(10)\n",
      "memory usage: 60.2 KB\n"
     ]
    }
   ],
   "source": [
    "data.info()"
   ]
  },
  {
   "cell_type": "code",
   "execution_count": 6,
   "id": "8109f624",
   "metadata": {},
   "outputs": [
    {
     "data": {
      "text/plain": [
       "sam_code_num                    0\n",
       "Clump_thick                     0\n",
       "Uni_of_Cell_Size                0\n",
       "Uni_of_Cell_Shape               0\n",
       "Marginal_Adhesion               0\n",
       "Single_Epithelial_Cell_Size     0\n",
       "Bare_Nuclei                    16\n",
       "Bland_Chromatin                 0\n",
       "Normal_Nucleoli                 0\n",
       "Mitoes                          0\n",
       "Class                           0\n",
       "dtype: int64"
      ]
     },
     "execution_count": 6,
     "metadata": {},
     "output_type": "execute_result"
    }
   ],
   "source": [
    "data.isnull().sum()"
   ]
  },
  {
   "cell_type": "code",
   "execution_count": 7,
   "id": "c1343473",
   "metadata": {},
   "outputs": [
    {
     "data": {
      "text/plain": [
       "array([ 1., 10.,  2.,  4.,  3.,  9.,  7., nan,  5.,  8.,  6.])"
      ]
     },
     "execution_count": 7,
     "metadata": {},
     "output_type": "execute_result"
    }
   ],
   "source": [
    "data.Bare_Nuclei.unique()"
   ]
  },
  {
   "cell_type": "code",
   "execution_count": 8,
   "id": "ee3d96cb",
   "metadata": {},
   "outputs": [
    {
     "data": {
      "text/plain": [
       "count    683.000000\n",
       "mean       3.544656\n",
       "std        3.643857\n",
       "min        1.000000\n",
       "25%        1.000000\n",
       "50%        1.000000\n",
       "75%        6.000000\n",
       "max       10.000000\n",
       "Name: Bare_Nuclei, dtype: float64"
      ]
     },
     "execution_count": 8,
     "metadata": {},
     "output_type": "execute_result"
    }
   ],
   "source": [
    "data.Bare_Nuclei.describe()"
   ]
  },
  {
   "cell_type": "code",
   "execution_count": 9,
   "id": "8b6e89af",
   "metadata": {},
   "outputs": [],
   "source": [
    "data.Bare_Nuclei.fillna(3.544656,inplace=True)"
   ]
  },
  {
   "cell_type": "code",
   "execution_count": 10,
   "id": "7a8e6246",
   "metadata": {},
   "outputs": [
    {
     "data": {
      "text/plain": [
       "0"
      ]
     },
     "execution_count": 10,
     "metadata": {},
     "output_type": "execute_result"
    }
   ],
   "source": [
    "data.Bare_Nuclei.isnull().sum()"
   ]
  },
  {
   "cell_type": "code",
   "execution_count": 11,
   "id": "802385c4",
   "metadata": {},
   "outputs": [
    {
     "data": {
      "text/plain": [
       "sam_code_num                   0\n",
       "Clump_thick                    0\n",
       "Uni_of_Cell_Size               0\n",
       "Uni_of_Cell_Shape              0\n",
       "Marginal_Adhesion              0\n",
       "Single_Epithelial_Cell_Size    0\n",
       "Bare_Nuclei                    0\n",
       "Bland_Chromatin                0\n",
       "Normal_Nucleoli                0\n",
       "Mitoes                         0\n",
       "Class                          0\n",
       "dtype: int64"
      ]
     },
     "execution_count": 11,
     "metadata": {},
     "output_type": "execute_result"
    }
   ],
   "source": [
    "data.isnull().sum()"
   ]
  },
  {
   "cell_type": "code",
   "execution_count": 12,
   "id": "1285b34f",
   "metadata": {},
   "outputs": [
    {
     "data": {
      "text/plain": [
       "count    699.000000\n",
       "mean       4.417740\n",
       "std        2.815741\n",
       "min        1.000000\n",
       "25%        2.000000\n",
       "50%        4.000000\n",
       "75%        6.000000\n",
       "max       10.000000\n",
       "Name: Clump_thick, dtype: float64"
      ]
     },
     "execution_count": 12,
     "metadata": {},
     "output_type": "execute_result"
    }
   ],
   "source": [
    "data.Clump_thick.describe()"
   ]
  },
  {
   "cell_type": "code",
   "execution_count": 13,
   "id": "6aa56538",
   "metadata": {},
   "outputs": [
    {
     "name": "stdout",
     "output_type": "stream",
     "text": [
      "<class 'pandas.core.frame.DataFrame'>\n",
      "RangeIndex: 699 entries, 0 to 698\n",
      "Data columns (total 11 columns):\n",
      " #   Column                       Non-Null Count  Dtype  \n",
      "---  ------                       --------------  -----  \n",
      " 0   sam_code_num                 699 non-null    int64  \n",
      " 1   Clump_thick                  699 non-null    int64  \n",
      " 2   Uni_of_Cell_Size             699 non-null    int64  \n",
      " 3   Uni_of_Cell_Shape            699 non-null    int64  \n",
      " 4   Marginal_Adhesion            699 non-null    int64  \n",
      " 5   Single_Epithelial_Cell_Size  699 non-null    int64  \n",
      " 6   Bare_Nuclei                  699 non-null    float64\n",
      " 7   Bland_Chromatin              699 non-null    int64  \n",
      " 8   Normal_Nucleoli              699 non-null    int64  \n",
      " 9   Mitoes                       699 non-null    int64  \n",
      " 10  Class                        699 non-null    int64  \n",
      "dtypes: float64(1), int64(10)\n",
      "memory usage: 60.2 KB\n"
     ]
    }
   ],
   "source": [
    "data.info()"
   ]
  },
  {
   "cell_type": "code",
   "execution_count": 14,
   "id": "be8e632e",
   "metadata": {},
   "outputs": [
    {
     "data": {
      "text/plain": [
       "{'whiskers': [<matplotlib.lines.Line2D at 0x232c5b87eb0>,\n",
       "  <matplotlib.lines.Line2D at 0x232c62331c0>],\n",
       " 'caps': [<matplotlib.lines.Line2D at 0x232c6233550>,\n",
       "  <matplotlib.lines.Line2D at 0x232c62338e0>],\n",
       " 'boxes': [<matplotlib.lines.Line2D at 0x232c5b87b80>],\n",
       " 'medians': [<matplotlib.lines.Line2D at 0x232c6233c70>],\n",
       " 'fliers': [<matplotlib.lines.Line2D at 0x232c6241040>],\n",
       " 'means': []}"
      ]
     },
     "execution_count": 14,
     "metadata": {},
     "output_type": "execute_result"
    },
    {
     "data": {
      "image/png": "[encoded data removed]",
      "text/plain": [
       "<Figure size 432x288 with 1 Axes>"
      ]
     },
     "metadata": {
      "needs_background": "light"
     },
     "output_type": "display_data"
    }
   ],
   "source": [
    "plt.boxplot(data.Bare_Nuclei)"
   ]
  },
  {
   "cell_type": "code",
   "execution_count": 15,
   "id": "bd762da5",
   "metadata": {},
   "outputs": [],
   "source": [
    "from sklearn.model_selection import train_test_split"
   ]
  },
  {
   "cell_type": "code",
   "execution_count": 16,
   "id": "6c26650e",
   "metadata": {},
   "outputs": [
    {
     "name": "stdout",
     "output_type": "stream",
     "text": [
      "0      2\n",
      "1      2\n",
      "2      2\n",
      "3      2\n",
      "4      2\n",
      "      ..\n",
      "694    2\n",
      "695    2\n",
      "696    4\n",
      "697    4\n",
      "698    4\n",
      "Name: Class, Length: 699, dtype: int64\n"
     ]
    }
   ],
   "source": [
    "y=data.Class\n",
    "print(y)"
   ]
  },
  {
   "cell_type": "code",
   "execution_count": 17,
   "id": "08cec176",
   "metadata": {},
   "outputs": [
    {
     "name": "stdout",
     "output_type": "stream",
     "text": [
      "     Clump_thick  Uni_of_Cell_Size  Uni_of_Cell_Shape  Marginal_Adhesion  \\\n",
      "0              5                 1                  1                  1   \n",
      "1              5                 4                  4                  5   \n",
      "2              3                 1                  1                  1   \n",
      "3              6                 8                  8                  1   \n",
      "4              4                 1                  1                  3   \n",
      "..           ...               ...                ...                ...   \n",
      "694            3                 1                  1                  1   \n",
      "695            2                 1                  1                  1   \n",
      "696            5                10                 10                  3   \n",
      "697            4                 8                  6                  4   \n",
      "698            4                 8                  8                  5   \n",
      "\n",
      "     Single_Epithelial_Cell_Size  Bare_Nuclei  Bland_Chromatin  \\\n",
      "0                              2          1.0                3   \n",
      "1                              7         10.0                3   \n",
      "2                              2          2.0                3   \n",
      "3                              3          4.0                3   \n",
      "4                              2          1.0                3   \n",
      "..                           ...          ...              ...   \n",
      "694                            3          2.0                1   \n",
      "695                            2          1.0                1   \n",
      "696                            7          3.0                8   \n",
      "697                            3          4.0               10   \n",
      "698                            4          5.0               10   \n",
      "\n",
      "     Normal_Nucleoli  Mitoes  \n",
      "0                  1       1  \n",
      "1                  2       1  \n",
      "2                  1       1  \n",
      "3                  7       1  \n",
      "4                  1       1  \n",
      "..               ...     ...  \n",
      "694                1       1  \n",
      "695                1       1  \n",
      "696               10       2  \n",
      "697                6       1  \n",
      "698                4       1  \n",
      "\n",
      "[699 rows x 9 columns]\n"
     ]
    }
   ],
   "source": [
    "x=data.drop(['sam_code_num','Class'],axis=1)\n",
    "print(x)"
   ]
  },
  {
   "cell_type": "code",
   "execution_count": 18,
   "id": "4b3fc0cb",
   "metadata": {},
   "outputs": [],
   "source": [
    "train_x,test_x,train_y,test_y=train_test_split(x,y,train_size=0.8,test_size=0.2,shuffle=False)"
   ]
  },
  {
   "cell_type": "code",
   "execution_count": 19,
   "id": "b5bc59ed",
   "metadata": {},
   "outputs": [
    {
     "name": "stdout",
     "output_type": "stream",
     "text": [
      "     Clump_thick  Uni_of_Cell_Size  Uni_of_Cell_Shape  Marginal_Adhesion  \\\n",
      "0              5                 1                  1                  1   \n",
      "1              5                 4                  4                  5   \n",
      "2              3                 1                  1                  1   \n",
      "3              6                 8                  8                  1   \n",
      "4              4                 1                  1                  3   \n",
      "..           ...               ...                ...                ...   \n",
      "554            3                 1                  1                  1   \n",
      "555            4                 3                  1                  1   \n",
      "556            5                 2                  2                  2   \n",
      "557            5                 1                  1                  3   \n",
      "558            2                 1                  1                  1   \n",
      "\n",
      "     Single_Epithelial_Cell_Size  Bare_Nuclei  Bland_Chromatin  \\\n",
      "0                              2          1.0                3   \n",
      "1                              7         10.0                3   \n",
      "2                              2          2.0                3   \n",
      "3                              3          4.0                3   \n",
      "4                              2          1.0                3   \n",
      "..                           ...          ...              ...   \n",
      "554                            2          1.0                1   \n",
      "555                            2          1.0                4   \n",
      "556                            1          1.0                2   \n",
      "557                            2          1.0                1   \n",
      "558                            2          1.0                2   \n",
      "\n",
      "     Normal_Nucleoli  Mitoes  \n",
      "0                  1       1  \n",
      "1                  2       1  \n",
      "2                  1       1  \n",
      "3                  7       1  \n",
      "4                  1       1  \n",
      "..               ...     ...  \n",
      "554                1       1  \n",
      "555                8       1  \n",
      "556                1       1  \n",
      "557                1       1  \n",
      "558                1       1  \n",
      "\n",
      "[559 rows x 9 columns]\n",
      "     Clump_thick  Uni_of_Cell_Size  Uni_of_Cell_Shape  Marginal_Adhesion  \\\n",
      "559            5                 1                  1                  1   \n",
      "560            5                 1                  1                  1   \n",
      "561            5                 1                  1                  1   \n",
      "562            1                 1                  1                  1   \n",
      "563            3                 1                  1                  1   \n",
      "..           ...               ...                ...                ...   \n",
      "694            3                 1                  1                  1   \n",
      "695            2                 1                  1                  1   \n",
      "696            5                10                 10                  3   \n",
      "697            4                 8                  6                  4   \n",
      "698            4                 8                  8                  5   \n",
      "\n",
      "     Single_Epithelial_Cell_Size  Bare_Nuclei  Bland_Chromatin  \\\n",
      "559                            2          1.0                2   \n",
      "560                            2          1.0                3   \n",
      "561                            2          1.0                3   \n",
      "562                            2          1.0                3   \n",
      "563                            2          1.0                2   \n",
      "..                           ...          ...              ...   \n",
      "694                            3          2.0                1   \n",
      "695                            2          1.0                1   \n",
      "696                            7          3.0                8   \n",
      "697                            3          4.0               10   \n",
      "698                            4          5.0               10   \n",
      "\n",
      "     Normal_Nucleoli  Mitoes  \n",
      "559                1       1  \n",
      "560                1       1  \n",
      "561                1       1  \n",
      "562                1       1  \n",
      "563                1       1  \n",
      "..               ...     ...  \n",
      "694                1       1  \n",
      "695                1       1  \n",
      "696               10       2  \n",
      "697                6       1  \n",
      "698                4       1  \n",
      "\n",
      "[140 rows x 9 columns]\n",
      "0      2\n",
      "1      2\n",
      "2      2\n",
      "3      2\n",
      "4      2\n",
      "      ..\n",
      "554    2\n",
      "555    2\n",
      "556    2\n",
      "557    2\n",
      "558    2\n",
      "Name: Class, Length: 559, dtype: int64\n",
      "559    2\n",
      "560    2\n",
      "561    2\n",
      "562    2\n",
      "563    2\n",
      "      ..\n",
      "694    2\n",
      "695    2\n",
      "696    4\n",
      "697    4\n",
      "698    4\n",
      "Name: Class, Length: 140, dtype: int64\n"
     ]
    }
   ],
   "source": [
    "print(train_x)\n",
    "print(test_x)\n",
    "print(train_y)\n",
    "print(test_y)"
   ]
  },
  {
   "cell_type": "code",
   "execution_count": 20,
   "id": "40aea0a5",
   "metadata": {},
   "outputs": [
    {
     "data": {
      "text/plain": [
       "0.9588550983899821"
      ]
     },
     "execution_count": 20,
     "metadata": {},
     "output_type": "execute_result"
    }
   ],
   "source": [
    "from sklearn.linear_model import LogisticRegression\n",
    "model = LogisticRegression().fit(train_x,train_y)\n",
    "model.score(train_x,train_y)"
   ]
  },
  {
   "cell_type": "code",
   "execution_count": 21,
   "id": "1ec51e8b",
   "metadata": {},
   "outputs": [
    {
     "name": "stdout",
     "output_type": "stream",
     "text": [
      "[2 2 2 2 2 2 4 2 2 4 4 4 4 2 2 4 2 2 2 2 2 2 4 4 2 2 2 4 2 4 2 4 4 4 2 4 2\n",
      " 2 2 2 2 2 2 2 4 4 4 2 2 4 2 4 4 4 2 2 2 2 2 2 2 2 2 2 2 2 2 4 2 2 2 2 2 2\n",
      " 4 2 2 4 2 2 2 2 2 2 2 2 2 2 2 4 2 2 2 2 2 2 2 2 2 4 2 2 2 2 2 2 2 2 2 4 4\n",
      " 4 2 2 2 2 2 2 2 2 2 4 4 2 2 2 2 2 2 2 2 2 4 2 2 2 2 4 4 4]\n"
     ]
    }
   ],
   "source": [
    "predicted_value=model.predict(test_x)\n",
    "print(predicted_value)"
   ]
  },
  {
   "cell_type": "code",
   "execution_count": 22,
   "id": "db1d41a2",
   "metadata": {},
   "outputs": [
    {
     "name": "stdout",
     "output_type": "stream",
     "text": [
      "[[9.81959541e-01 1.80404594e-02]\n",
      " [9.75511112e-01 2.44888879e-02]\n",
      " [9.75511112e-01 2.44888879e-02]\n",
      " [9.97044403e-01 2.95559663e-03]\n",
      " [9.93726387e-01 6.27361309e-03]\n",
      " [9.83441946e-01 1.65580540e-02]\n",
      " [2.62048725e-04 9.99737951e-01]\n",
      " [9.88127692e-01 1.18723076e-02]\n",
      " [9.76455171e-01 2.35448289e-02]\n",
      " [3.03185606e-02 9.69681439e-01]\n",
      " [7.30802259e-04 9.99269198e-01]\n",
      " [6.86399482e-03 9.93136005e-01]\n",
      " [2.68228478e-04 9.99731772e-01]\n",
      " [9.93726387e-01 6.27361309e-03]\n",
      " [9.97835255e-01 2.16474459e-03]\n",
      " [2.66214762e-02 9.73378524e-01]\n",
      " [9.66216878e-01 3.37831218e-02]\n",
      " [9.81959541e-01 1.80404594e-02]\n",
      " [9.97835255e-01 2.16474459e-03]\n",
      " [9.97835255e-01 2.16474459e-03]\n",
      " [9.97044403e-01 2.95559663e-03]\n",
      " [9.75050075e-01 2.49499246e-02]\n",
      " [3.14308313e-03 9.96856917e-01]\n",
      " [1.10469546e-02 9.88953045e-01]\n",
      " [9.95400971e-01 4.59902877e-03]\n",
      " [9.57237064e-01 4.27629357e-02]\n",
      " [9.98414829e-01 1.58517057e-03]\n",
      " [5.69888974e-05 9.99943011e-01]\n",
      " [9.79412904e-01 2.05870960e-02]\n",
      " [2.56085218e-02 9.74391478e-01]\n",
      " [9.86733058e-01 1.32669421e-02]\n",
      " [3.03595898e-01 6.96404102e-01]\n",
      " [3.50890605e-02 9.64910940e-01]\n",
      " [8.32575718e-03 9.91674243e-01]\n",
      " [9.81617617e-01 1.83823833e-02]\n",
      " [7.31407409e-02 9.26859259e-01]\n",
      " [9.81959541e-01 1.80404594e-02]\n",
      " [9.85221691e-01 1.47783088e-02]\n",
      " [9.53563131e-01 4.64368689e-02]\n",
      " [9.93726387e-01 6.27361309e-03]\n",
      " [9.70087206e-01 2.99127940e-02]\n",
      " [9.93726387e-01 6.27361309e-03]\n",
      " [9.98048357e-01 1.95164317e-03]\n",
      " [9.89345079e-01 1.06549214e-02]\n",
      " [9.04866999e-02 9.09513300e-01]\n",
      " [1.75193447e-02 9.82480655e-01]\n",
      " [2.20318600e-04 9.99779681e-01]\n",
      " [9.90280290e-01 9.71971025e-03]\n",
      " [9.98414829e-01 1.58517057e-03]\n",
      " [6.27016146e-04 9.99372984e-01]\n",
      " [9.86733058e-01 1.32669421e-02]\n",
      " [1.01958954e-03 9.98980410e-01]\n",
      " [2.80616048e-02 9.71938395e-01]\n",
      " [8.65889063e-07 9.99999134e-01]\n",
      " [9.96728894e-01 3.27110568e-03]\n",
      " [9.96675288e-01 3.32471227e-03]\n",
      " [9.79535586e-01 2.04644138e-02]\n",
      " [9.93726387e-01 6.27361309e-03]\n",
      " [9.96025312e-01 3.97468800e-03]\n",
      " [9.89345079e-01 1.06549214e-02]\n",
      " [9.81959541e-01 1.80404594e-02]\n",
      " [9.93726387e-01 6.27361309e-03]\n",
      " [6.73926873e-01 3.26073127e-01]\n",
      " [8.96477245e-01 1.03522755e-01]\n",
      " [9.98414829e-01 1.58517057e-03]\n",
      " [9.79794683e-01 2.02053167e-02]\n",
      " [9.67761617e-01 3.22383827e-02]\n",
      " [2.83008237e-02 9.71699176e-01]\n",
      " [9.86605041e-01 1.33949594e-02]\n",
      " [9.97298893e-01 2.70110743e-03]\n",
      " [9.92179941e-01 7.82005943e-03]\n",
      " [9.59785506e-01 4.02144937e-02]\n",
      " [9.81959541e-01 1.80404594e-02]\n",
      " [9.98414829e-01 1.58517057e-03]\n",
      " [1.03135535e-01 8.96864465e-01]\n",
      " [9.95400971e-01 4.59902877e-03]\n",
      " [9.87670510e-01 1.23294898e-02]\n",
      " [1.09561540e-03 9.98904385e-01]\n",
      " [9.40217205e-01 5.97827951e-02]\n",
      " [9.92179941e-01 7.82005943e-03]\n",
      " [9.79575095e-01 2.04249046e-02]\n",
      " [9.87924791e-01 1.20752085e-02]\n",
      " [9.93726387e-01 6.27361309e-03]\n",
      " [9.93726387e-01 6.27361309e-03]\n",
      " [9.98414829e-01 1.58517057e-03]\n",
      " [9.97298893e-01 2.70110743e-03]\n",
      " [9.93726387e-01 6.27361309e-03]\n",
      " [9.97921936e-01 2.07806413e-03]\n",
      " [9.97543888e-01 2.45611181e-03]\n",
      " [7.12940770e-05 9.99928706e-01]\n",
      " [9.93726387e-01 6.27361309e-03]\n",
      " [9.79063001e-01 2.09369988e-02]\n",
      " [9.96841839e-01 3.15816127e-03]\n",
      " [9.79412904e-01 2.05870960e-02]\n",
      " [9.89345079e-01 1.06549214e-02]\n",
      " [9.91447297e-01 8.55270288e-03]\n",
      " [9.93726387e-01 6.27361309e-03]\n",
      " [9.81959541e-01 1.80404594e-02]\n",
      " [7.76159522e-01 2.23840478e-01]\n",
      " [1.30134330e-03 9.98698657e-01]\n",
      " [9.98414829e-01 1.58517057e-03]\n",
      " [9.97835255e-01 2.16474459e-03]\n",
      " [9.85497567e-01 1.45024325e-02]\n",
      " [9.95809165e-01 4.19083512e-03]\n",
      " [9.95809165e-01 4.19083512e-03]\n",
      " [9.90304487e-01 9.69551318e-03]\n",
      " [9.98414829e-01 1.58517057e-03]\n",
      " [9.66212509e-01 3.37874905e-02]\n",
      " [9.91447297e-01 8.55270288e-03]\n",
      " [3.19709261e-01 6.80290739e-01]\n",
      " [9.22876588e-03 9.90771234e-01]\n",
      " [4.67452738e-02 9.53254726e-01]\n",
      " [9.89985090e-01 1.00149102e-02]\n",
      " [9.94968568e-01 5.03143155e-03]\n",
      " [9.81909602e-01 1.80903984e-02]\n",
      " [9.97835255e-01 2.16474459e-03]\n",
      " [9.79148696e-01 2.08513038e-02]\n",
      " [9.96987508e-01 3.01249167e-03]\n",
      " [9.86733058e-01 1.32669421e-02]\n",
      " [9.98414829e-01 1.58517057e-03]\n",
      " [9.97298893e-01 2.70110743e-03]\n",
      " [1.33283199e-06 9.99998667e-01]\n",
      " [1.11974217e-03 9.98880258e-01]\n",
      " [9.72080081e-01 2.79199191e-02]\n",
      " [9.98414829e-01 1.58517057e-03]\n",
      " [9.98414829e-01 1.58517057e-03]\n",
      " [9.98414829e-01 1.58517057e-03]\n",
      " [9.98414829e-01 1.58517057e-03]\n",
      " [9.91803525e-01 8.19647459e-03]\n",
      " [9.92179941e-01 7.82005943e-03]\n",
      " [9.60417860e-01 3.95821403e-02]\n",
      " [9.97543888e-01 2.45611181e-03]\n",
      " [1.02501416e-01 8.97498584e-01]\n",
      " [9.95400971e-01 4.59902877e-03]\n",
      " [9.90047184e-01 9.95281553e-03]\n",
      " [9.92388519e-01 7.61148109e-03]\n",
      " [9.97298893e-01 2.70110743e-03]\n",
      " [2.27906402e-02 9.77209360e-01]\n",
      " [1.36254871e-01 8.63745129e-01]\n",
      " [4.89710180e-02 9.51028982e-01]]\n"
     ]
    }
   ],
   "source": [
    "probability=model.predict_proba(test_x)\n",
    "print(probability)"
   ]
  },
  {
   "cell_type": "code",
   "execution_count": 23,
   "id": "cb8de5f0",
   "metadata": {},
   "outputs": [],
   "source": [
    "from sklearn.metrics import confusion_matrix"
   ]
  },
  {
   "cell_type": "code",
   "execution_count": 24,
   "id": "091e5a68",
   "metadata": {},
   "outputs": [
    {
     "data": {
      "text/plain": [
       "array([[105,   0],\n",
       "       [  0,  35]], dtype=int64)"
      ]
     },
     "execution_count": 24,
     "metadata": {},
     "output_type": "execute_result"
    }
   ],
   "source": [
    "confusion_matrix(test_y,predicted_value)"
   ]
  },
  {
   "cell_type": "code",
   "execution_count": 25,
   "id": "be1d4008",
   "metadata": {},
   "outputs": [],
   "source": [
    "x=[[\"Clump_thick\",\"Uni_of_Cell_Size\",\"Uni_of_Cell_Shape\",\"Marginal_Adhesion\",\"Single_Epithelial_Cell_Size\",\"Bare_Nuclei\",\"Bland_Chromatin\",\"Normal_Nucleoli\",\"Mitoes\"]]\n",
    "y=[[\"Class\"]]"
   ]
  },
  {
   "cell_type": "code",
   "execution_count": 26,
   "id": "4637c4ce",
   "metadata": {},
   "outputs": [],
   "source": [
    "from sklearn import preprocessing\n",
    "le = preprocessing.LabelEncoder()"
   ]
  },
  {
   "cell_type": "code",
   "execution_count": 27,
   "id": "26fb32b9",
   "metadata": {},
   "outputs": [
    {
     "name": "stderr",
     "output_type": "stream",
     "text": [
      "C:\\Users\\hp\\anaconda3\\lib\\site-packages\\sklearn\\utils\\validation.py:63: DataConversionWarning: A column-vector y was passed when a 1d array was expected. Please change the shape of y to (n_samples, ), for example using ravel().\n",
      "  return f(*args, **kwargs)\n"
     ]
    }
   ],
   "source": [
    "y=le.fit_transform(y)"
   ]
  },
  {
   "cell_type": "code",
   "execution_count": 28,
   "id": "dfac08ff",
   "metadata": {},
   "outputs": [],
   "source": [
    "from keras.models import Sequential"
   ]
  },
  {
   "cell_type": "code",
   "execution_count": 29,
   "id": "2b3e7eb8",
   "metadata": {},
   "outputs": [],
   "source": [
    "from keras.layers import Dense"
   ]
  },
  {
   "cell_type": "code",
   "execution_count": 30,
   "id": "9b2f4c30",
   "metadata": {},
   "outputs": [],
   "source": [
    "from tensorflow.keras import layers"
   ]
  },
  {
   "cell_type": "code",
   "execution_count": 34,
   "id": "597cb34f",
   "metadata": {},
   "outputs": [],
   "source": [
    "model=Sequential()\n",
    "model.add(layers.Dense(8,input_dim=9,activation='relu'))\n",
    "model.add(layers.Dense(32,activation='relu'))\n",
    "model.add(layers.Dense(2,activation='relu'))\n",
    "model.compile(loss='binary_crossentropy',optimizer='adam',metrics=['accuracy'])"
   ]
  },
  {
   "cell_type": "code",
   "execution_count": 37,
   "id": "82b796e3",
   "metadata": {},
   "outputs": [
    {
     "name": "stdout",
     "output_type": "stream",
     "text": [
      "Epoch 1/50\n",
      "18/18 [==============================] - 3s 5ms/step - loss: 42.2186 - accuracy: 0.0000e+00\n",
      "Epoch 2/50\n",
      "18/18 [==============================] - 0s 2ms/step - loss: 42.2186 - accuracy: 0.0000e+00\n",
      "Epoch 3/50\n",
      "18/18 [==============================] - 0s 2ms/step - loss: 42.2185 - accuracy: 0.0000e+00\n",
      "Epoch 4/50\n",
      "18/18 [==============================] - 0s 2ms/step - loss: 42.2186 - accuracy: 0.0000e+00\n",
      "Epoch 5/50\n",
      "18/18 [==============================] - 0s 2ms/step - loss: 42.2186 - accuracy: 0.0000e+00\n",
      "Epoch 6/50\n",
      "18/18 [==============================] - 0s 2ms/step - loss: 42.2186 - accuracy: 0.0000e+00\n",
      "Epoch 7/50\n",
      "18/18 [==============================] - 0s 1ms/step - loss: 42.2186 - accuracy: 0.0000e+00\n",
      "Epoch 8/50\n",
      "18/18 [==============================] - 0s 1ms/step - loss: 42.2186 - accuracy: 0.0000e+00\n",
      "Epoch 9/50\n",
      "18/18 [==============================] - 0s 1ms/step - loss: 42.2186 - accuracy: 0.0000e+00\n",
      "Epoch 10/50\n",
      "18/18 [==============================] - 0s 2ms/step - loss: 42.2186 - accuracy: 0.0000e+00\n",
      "Epoch 11/50\n",
      "18/18 [==============================] - 0s 2ms/step - loss: 42.2186 - accuracy: 0.0000e+00\n",
      "Epoch 12/50\n",
      "18/18 [==============================] - 0s 2ms/step - loss: 42.2186 - accuracy: 0.0000e+00\n",
      "Epoch 13/50\n",
      "18/18 [==============================] - 0s 2ms/step - loss: 42.2186 - accuracy: 0.0000e+00\n",
      "Epoch 14/50\n",
      "18/18 [==============================] - 0s 3ms/step - loss: 42.2186 - accuracy: 0.0000e+00\n",
      "Epoch 15/50\n",
      "18/18 [==============================] - 0s 3ms/step - loss: 42.2186 - accuracy: 0.0000e+00\n",
      "Epoch 16/50\n",
      "18/18 [==============================] - 0s 2ms/step - loss: 42.2186 - accuracy: 0.0000e+00\n",
      "Epoch 17/50\n",
      "18/18 [==============================] - 0s 2ms/step - loss: 42.2186 - accuracy: 0.0000e+00\n",
      "Epoch 18/50\n",
      "18/18 [==============================] - 0s 3ms/step - loss: 42.2186 - accuracy: 0.0000e+00\n",
      "Epoch 19/50\n",
      "18/18 [==============================] - 0s 3ms/step - loss: 42.2186 - accuracy: 0.0000e+00\n",
      "Epoch 20/50\n",
      "18/18 [==============================] - 0s 3ms/step - loss: 42.2186 - accuracy: 0.0000e+00\n",
      "Epoch 21/50\n",
      "18/18 [==============================] - 0s 2ms/step - loss: 42.2186 - accuracy: 0.0000e+00\n",
      "Epoch 22/50\n",
      "18/18 [==============================] - 0s 1ms/step - loss: 42.2186 - accuracy: 0.0000e+00\n",
      "Epoch 23/50\n",
      "18/18 [==============================] - 0s 2ms/step - loss: 42.2186 - accuracy: 0.0000e+00\n",
      "Epoch 24/50\n",
      "18/18 [==============================] - 0s 2ms/step - loss: 42.2186 - accuracy: 0.0000e+00\n",
      "Epoch 25/50\n",
      "18/18 [==============================] - 0s 2ms/step - loss: 42.2186 - accuracy: 0.0000e+00\n",
      "Epoch 26/50\n",
      "18/18 [==============================] - 0s 3ms/step - loss: 42.2186 - accuracy: 0.0000e+00\n",
      "Epoch 27/50\n",
      "18/18 [==============================] - 0s 2ms/step - loss: 42.2186 - accuracy: 0.0000e+00\n",
      "Epoch 28/50\n",
      "18/18 [==============================] - 0s 2ms/step - loss: 42.2186 - accuracy: 0.0000e+00\n",
      "Epoch 29/50\n",
      "18/18 [==============================] - 0s 3ms/step - loss: 42.2186 - accuracy: 0.0000e+00\n",
      "Epoch 30/50\n",
      "18/18 [==============================] - 0s 2ms/step - loss: 42.2186 - accuracy: 0.0000e+00\n",
      "Epoch 31/50\n",
      "18/18 [==============================] - 0s 2ms/step - loss: 42.2186 - accuracy: 0.0000e+00\n",
      "Epoch 32/50\n",
      "18/18 [==============================] - 0s 3ms/step - loss: 42.2186 - accuracy: 0.0000e+00\n",
      "Epoch 33/50\n",
      "18/18 [==============================] - 0s 3ms/step - loss: 42.2185 - accuracy: 0.0000e+00\n",
      "Epoch 34/50\n",
      "18/18 [==============================] - 0s 2ms/step - loss: 42.2186 - accuracy: 0.0000e+00\n",
      "Epoch 35/50\n",
      "18/18 [==============================] - 0s 3ms/step - loss: 42.2186 - accuracy: 0.0000e+00\n",
      "Epoch 36/50\n",
      "18/18 [==============================] - 0s 2ms/step - loss: 42.2186 - accuracy: 0.0000e+00\n",
      "Epoch 37/50\n",
      "18/18 [==============================] - 0s 2ms/step - loss: 42.2186 - accuracy: 0.0000e+00\n",
      "Epoch 38/50\n",
      "18/18 [==============================] - 0s 2ms/step - loss: 42.2186 - accuracy: 0.0000e+00\n",
      "Epoch 39/50\n",
      "18/18 [==============================] - 0s 2ms/step - loss: 42.2186 - accuracy: 0.0000e+00\n",
      "Epoch 40/50\n",
      "18/18 [==============================] - 0s 2ms/step - loss: 42.2186 - accuracy: 0.0000e+00\n",
      "Epoch 41/50\n",
      "18/18 [==============================] - 0s 2ms/step - loss: 42.2186 - accuracy: 0.0000e+00\n",
      "Epoch 42/50\n",
      "18/18 [==============================] - 0s 2ms/step - loss: 42.2186 - accuracy: 0.0000e+00\n",
      "Epoch 43/50\n",
      "18/18 [==============================] - 0s 1ms/step - loss: 42.2186 - accuracy: 0.0000e+00\n",
      "Epoch 44/50\n",
      "18/18 [==============================] - 0s 2ms/step - loss: 42.2186 - accuracy: 0.0000e+00\n",
      "Epoch 45/50\n",
      "18/18 [==============================] - 0s 3ms/step - loss: 42.2186 - accuracy: 0.0000e+00\n",
      "Epoch 46/50\n",
      "18/18 [==============================] - 0s 2ms/step - loss: 42.2186 - accuracy: 0.0000e+00\n",
      "Epoch 47/50\n",
      "18/18 [==============================] - 0s 2ms/step - loss: 42.2186 - accuracy: 0.0000e+00\n",
      "Epoch 48/50\n",
      "18/18 [==============================] - 0s 2ms/step - loss: 42.2186 - accuracy: 0.0000e+00\n",
      "Epoch 49/50\n",
      "18/18 [==============================] - 0s 3ms/step - loss: 42.2186 - accuracy: 0.0000e+00\n",
      "Epoch 50/50\n",
      "18/18 [==============================] - 0s 2ms/step - loss: 42.2186 - accuracy: 0.0000e+00\n"
     ]
    },
    {
     "data": {
      "text/plain": [
       "<keras.callbacks.History at 0x232ce637400>"
      ]
     },
     "execution_count": 37,
     "metadata": {},
     "output_type": "execute_result"
    }
   ],
   "source": [
    "model.fit(train_x,train_y,epochs=50)"
   ]
  },
  {
   "cell_type": "code",
   "execution_count": 49,
   "id": "261ecda2",
   "metadata": {
    "scrolled": true
   },
   "outputs": [
    {
     "name": "stdout",
     "output_type": "stream",
     "text": [
      "18/18 [==============================] - 0s 1ms/step - loss: 42.2186 - accuracy: 0.0000e+00\n"
     ]
    },
    {
     "data": {
      "text/plain": [
       "[42.21855545043945, 0.0]"
      ]
     },
     "execution_count": 49,
     "metadata": {},
     "output_type": "execute_result"
    }
   ],
   "source": [
    "model.evaluate(train_x,train_y)"
   ]
  },
  {
   "cell_type": "code",
   "execution_count": null,
   "id": "e646e352",
   "metadata": {},
   "outputs": [],
   "source": []
  },
  {
   "cell_type": "code",
   "execution_count": null,
   "id": "236d31cf",
   "metadata": {},
   "outputs": [],
   "source": []
  },
  {
   "cell_type": "code",
   "execution_count": null,
   "id": "c991e684",
   "metadata": {},
   "outputs": [],
   "source": []
  },
  {
   "cell_type": "code",
   "execution_count": null,
   "id": "a3b54ad8",
   "metadata": {},
   "outputs": [],
   "source": []
  },
  {
   "cell_type": "code",
   "execution_count": null,
   "id": "8ffc5d53",
   "metadata": {},
   "outputs": [],
   "source": []
  },
  {
   "cell_type": "code",
   "execution_count": null,
   "id": "30398231",
   "metadata": {},
   "outputs": [],
   "source": []
  },
  {
   "cell_type": "code",
   "execution_count": null,
   "id": "ff1547ce",
   "metadata": {},
   "outputs": [],
   "source": []
  }
 ],
 "metadata": {
  "kernelspec": {
   "display_name": "Python 3 (ipykernel)",
   "language": "python",
   "name": "python3"
  },
  "language_info": {
   "codemirror_mode": {
    "name": "ipython",
    "version": 3
   },
   "file_extension": ".py",
   "mimetype": "text/x-python",
   "name": "python",
   "nbconvert_exporter": "python",
   "pygments_lexer": "ipython3",
   "version": "3.9.7"
  }
 },
 "nbformat": 4,
 "nbformat_minor": 5
}
